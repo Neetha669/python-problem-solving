{
  "nbformat": 4,
  "nbformat_minor": 0,
  "metadata": {
    "colab": {
      "provenance": [],
      "authorship_tag": "ABX9TyMEuGOh9VHqksz7x1joArxK",
      "include_colab_link": true
    },
    "kernelspec": {
      "name": "python3",
      "display_name": "Python 3"
    },
    "language_info": {
      "name": "python"
    }
  },
  "cells": [
    {
      "cell_type": "markdown",
      "metadata": {
        "id": "view-in-github",
        "colab_type": "text"
      },
      "source": [
        "<a href=\"https://colab.research.google.com/github/Neetha669/python-problem-solving/blob/main/day_10.ipynb\" target=\"_parent\"><img src=\"https://colab.research.google.com/assets/colab-badge.svg\" alt=\"Open In Colab\"/></a>"
      ]
    },
    {
      "cell_type": "code",
      "execution_count": null,
      "metadata": {
        "colab": {
          "base_uri": "https://localhost:8080/"
        },
        "id": "CUoNPeQArXq7",
        "outputId": "75e64b2b-41ef-4d66-e531-f6a350c7df97"
      },
      "outputs": [
        {
          "output_type": "stream",
          "name": "stdout",
          "text": [
            "3\n"
          ]
        }
      ],
      "source": [
        "s=\"dabac\"\n",
        "m=0\n",
        "for i in range(len(s)):\n",
        "  r,l=i,i\n",
        "  while l>=0 and r<len(s) and s[l]==s[r]:\n",
        "    m=max(m,r-l+1)\n",
        "    r+=1\n",
        "    l-=1\n",
        "print(m)"
      ]
    },
    {
      "cell_type": "code",
      "source": [
        "s=\"dabac\"\n",
        "m=0\n",
        "for i in range(len(s)):\n",
        "  r,l=i,i\n",
        "  while l>=0 and r<len(s) and s[l]==s[r]:\n",
        "    m=max(m,r-l+1)\n",
        "    r+=1\n",
        "    l-=1\n",
        "  r,l=i+1,i\n",
        "  while l>=0 and r<len(s) and s[l]==s[r]:\n",
        "    m=max(m,r-l+1)\n",
        "    r+=1\n",
        "    l-=1\n",
        "print(m)"
      ],
      "metadata": {
        "colab": {
          "base_uri": "https://localhost:8080/"
        },
        "id": "AxAEfHmfwJmV",
        "outputId": "6d5053d7-3adf-4f95-a997-1569c4ca1045"
      },
      "execution_count": null,
      "outputs": [
        {
          "output_type": "stream",
          "name": "stdout",
          "text": [
            "3\n"
          ]
        }
      ]
    },
    {
      "cell_type": "code",
      "source": [
        "def fib(n):\n",
        "    if n <= 1:\n",
        "        return n\n",
        "    else:\n",
        "        return fib(n - 1) + fib(n - 2)\n",
        "a=int(input(\"enter the number of terms:\"))\n",
        "for i in range(a):\n",
        "    print(fib(i))"
      ],
      "metadata": {
        "colab": {
          "base_uri": "https://localhost:8080/"
        },
        "id": "nF6BeXxW2zKO",
        "outputId": "175b3b38-160e-4ab7-e5ba-afc3c142ba0f"
      },
      "execution_count": null,
      "outputs": [
        {
          "output_type": "stream",
          "name": "stdout",
          "text": [
            "enter the number of terms:5\n",
            "0\n",
            "1\n",
            "1\n",
            "2\n",
            "3\n"
          ]
        }
      ]
    },
    {
      "cell_type": "code",
      "source": [
        "def fib(n,dp):\n",
        "  if n==1 or n==0:\n",
        "    return n\n",
        "  if dp[n]!=-1:\n",
        "    return dp[n]\n",
        "  dp[n]=fib(n-1,dp)+fib(n-2,dp)\n",
        "  return dp[n]\n",
        "n=int(input(\"Enter the num:\"))\n",
        "dp=[-1]*(n+1)\n",
        "print(fib(n,dp))"
      ],
      "metadata": {
        "colab": {
          "base_uri": "https://localhost:8080/"
        },
        "id": "tIktpN2n4EjP",
        "outputId": "53d061f5-daf4-4066-cf25-13752353f4bf"
      },
      "execution_count": null,
      "outputs": [
        {
          "output_type": "stream",
          "name": "stdout",
          "text": [
            "Enter the num:4\n",
            "3\n"
          ]
        }
      ]
    },
    {
      "cell_type": "code",
      "source": [
        "n=int(input(\"Enter the num:\"))\n",
        "dp=[-1]*(n+1)\n",
        "dp[0],dp[1]=0,1\n",
        "for i in range(2,n+1):\n",
        "  dp[i]=dp[i-1]+dp[i-2]\n",
        "print(dp[n])"
      ],
      "metadata": {
        "colab": {
          "base_uri": "https://localhost:8080/"
        },
        "id": "JMAQjMo0Bt9j",
        "outputId": "cf7aad6f-1594-4766-d6e1-4367a82dedd4"
      },
      "execution_count": null,
      "outputs": [
        {
          "output_type": "stream",
          "name": "stdout",
          "text": [
            "Enter the num:6\n",
            "8\n"
          ]
        }
      ]
    },
    {
      "cell_type": "code",
      "source": [
        "def frog_jump(n,energy):\n",
        "  if n==0:\n",
        "    return 0\n",
        "  jump1=frog_jump(n-1,energy)+abs(energy[n]-energy[n-1])\n",
        "  jump2=float('inf')\n",
        "  if n>1:\n",
        "    jump2=frog_jump(n-2,energy)+abs(energy[n]-energy[n-2])\n",
        "  return min(jump1,jump2)\n",
        "energy=[30,10,60,10,60,50]\n",
        "n=len(energy)-1\n",
        "print(frog_jump(n,energy))"
      ],
      "metadata": {
        "colab": {
          "base_uri": "https://localhost:8080/"
        },
        "id": "dDarQ1wTGe7D",
        "outputId": "f35a9804-dfa0-41f6-8481-1aa2f20dfeb6"
      },
      "execution_count": null,
      "outputs": [
        {
          "output_type": "stream",
          "name": "stdout",
          "text": [
            "40\n"
          ]
        }
      ]
    },
    {
      "cell_type": "code",
      "source": [
        "def frog_jump(n,energy,dp):\n",
        "  if n==0:\n",
        "    return 0\n",
        "  if dp[n]!=-1:\n",
        "    return dp[n]\n",
        "  jump1=frog_jump(n-1,energy,dp)+abs(energy[n]-energy[n-1])\n",
        "  jump2=float('inf')\n",
        "  if n>1:\n",
        "    jump2=frog_jump(n-2,energy,dp)+abs(energy[n]-energy[n-2])\n",
        "  dp[n]=min(jump1,jump2)\n",
        "  return dp[n]\n",
        "energy=[30,10,60,10,60,50]\n",
        "n=len(energy)-1\n",
        "dp=[-1]*(n+1)\n",
        "print(frog_jump(n,energy,dp))"
      ],
      "metadata": {
        "colab": {
          "base_uri": "https://localhost:8080/"
        },
        "id": "s65ZQk6Homg7",
        "outputId": "f44b15dc-4bd9-4f71-db53-4ffed71af491"
      },
      "execution_count": null,
      "outputs": [
        {
          "output_type": "stream",
          "name": "stdout",
          "text": [
            "40\n"
          ]
        }
      ]
    },
    {
      "cell_type": "code",
      "source": [
        "energy=[30,10,60,10,60,50]\n",
        "n=len(energy)\n",
        "dp=[-1]*n\n",
        "dp[0]=0\n",
        "for i in range(1,n):\n",
        "  jump1=dp[i-1]+abs(energy[i]-energy[i-1])\n",
        "  jum2=float('inf')\n",
        "  if n>1:\n",
        "    jump2=dp[i-2]+abs(energy[i]-energy[i-2])\n",
        "  dp[i]=min(jump1,jump2)\n",
        "print(dp[n-1])"
      ],
      "metadata": {
        "colab": {
          "base_uri": "https://localhost:8080/"
        },
        "id": "Q3pB7piBqXbF",
        "outputId": "dc4d698d-cc3c-4d47-d502-8dc813df1ba1"
      },
      "execution_count": null,
      "outputs": [
        {
          "output_type": "stream",
          "name": "stdout",
          "text": [
            "40\n"
          ]
        }
      ]
    }
  ]
}