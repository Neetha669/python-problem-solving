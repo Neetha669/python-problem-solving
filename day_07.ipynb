{
  "nbformat": 4,
  "nbformat_minor": 0,
  "metadata": {
    "colab": {
      "provenance": [],
      "authorship_tag": "ABX9TyM5vWG5PvbtNhIl5ELXDPrG",
      "include_colab_link": true
    },
    "kernelspec": {
      "name": "python3",
      "display_name": "Python 3"
    },
    "language_info": {
      "name": "python"
    }
  },
  "cells": [
    {
      "cell_type": "markdown",
      "metadata": {
        "id": "view-in-github",
        "colab_type": "text"
      },
      "source": [
        "<a href=\"https://colab.research.google.com/github/Neetha669/python-problem-solving/blob/main/day_07.ipynb\" target=\"_parent\"><img src=\"https://colab.research.google.com/assets/colab-badge.svg\" alt=\"Open In Colab\"/></a>"
      ]
    },
    {
      "cell_type": "code",
      "execution_count": null,
      "metadata": {
        "colab": {
          "base_uri": "https://localhost:8080/"
        },
        "id": "D6Gz5iFJLvNg",
        "outputId": "8746f137-6f1e-4fe8-d778-10d989ea37af"
      },
      "outputs": [
        {
          "output_type": "stream",
          "name": "stdout",
          "text": [
            "3\n"
          ]
        }
      ],
      "source": [
        "#write a program to find the 2nd largest frequent in the element\n",
        "\n",
        "l=[1,3,2,2,5,2,3,7]\n",
        "d={}\n",
        "for i in l:\n",
        "  if i not in d:\n",
        "    d[i]=1\n",
        "  else:\n",
        "    d[i]+=1\n",
        "max1,max2=0,0\n",
        "ele1,ele2=0,0\n",
        "for k in d:\n",
        "  if d[k]>max1:\n",
        "    max2=max1\n",
        "    max1=d[k]\n",
        "    ele2=ele1\n",
        "    ele1=k\n",
        "  elif d[k]>max2 and d[k]!=max1:\n",
        "    max2=d[k]\n",
        "    ele2=k\n",
        "print(ele2)"
      ]
    },
    {
      "cell_type": "code",
      "source": [
        "l=[3,2,1,4,5,7,8,9]\n",
        "k=7\n",
        "for i in range(len(l)):\n",
        "  if k==l[i]:\n",
        "    print(i)\n",
        "    break\n",
        "else:\n",
        "    print(False)"
      ],
      "metadata": {
        "colab": {
          "base_uri": "https://localhost:8080/"
        },
        "id": "pSphF_4UbN9X",
        "outputId": "e7d8fb8a-f911-4ab3-8067-5cf71edbeea1"
      },
      "execution_count": null,
      "outputs": [
        {
          "output_type": "stream",
          "name": "stdout",
          "text": [
            "5\n"
          ]
        }
      ]
    },
    {
      "cell_type": "code",
      "source": [
        "l=[3,2,1,4,5,7,8,9]\n",
        "k=7\n",
        "n=int(input())\n",
        "if n in l:\n",
        "  print(\"yes\")\n",
        "else:\n",
        "  print(\"no\")"
      ],
      "metadata": {
        "colab": {
          "base_uri": "https://localhost:8080/"
        },
        "id": "TqxawL8Ms4Rx",
        "outputId": "b2f51d2c-d412-45a8-bb78-1e5e5a2dfcd2"
      },
      "execution_count": null,
      "outputs": [
        {
          "output_type": "stream",
          "name": "stdout",
          "text": [
            "11\n",
            "no\n"
          ]
        }
      ]
    },
    {
      "cell_type": "code",
      "source": [
        "l=[[6,7,8,11],\n",
        "   [1,5,0,15],\n",
        "   [12,10,2,19]]\n",
        "k=12\n",
        "flag=0\n",
        "for i in range(len(l)):\n",
        "  for j in range(len(l[i])):\n",
        "    if l[i][j]==k:\n",
        "      flag=1\n",
        "      print(True,i,j)\n",
        "      break\n",
        "if flag==0:\n",
        "  print(False)"
      ],
      "metadata": {
        "colab": {
          "base_uri": "https://localhost:8080/"
        },
        "id": "PRjGnL_CuzZj",
        "outputId": "aa376ef0-2ebe-4eac-9f8d-45fcb38baf8a"
      },
      "execution_count": null,
      "outputs": [
        {
          "output_type": "stream",
          "name": "stdout",
          "text": [
            "True 2 0\n"
          ]
        }
      ]
    },
    {
      "cell_type": "code",
      "source": [
        "l=[1,3,4,5,7,8,9,11,15]\n",
        "k=11\n",
        "s,e=0,len(l)-1\n",
        "while s<=e:\n",
        "  m=(s+e)//2\n",
        "  if l[m]==k:\n",
        "    print(\"Found the element\")\n",
        "    break\n",
        "  elif l[m]<k:\n",
        "    s=m+1\n",
        "  else:\n",
        "    e=m-1\n",
        "else:\n",
        "  print(False)"
      ],
      "metadata": {
        "colab": {
          "base_uri": "https://localhost:8080/"
        },
        "id": "fCguLKkx1DQA",
        "outputId": "da149b0d-4aa4-4ab3-e8a4-f0687abbefb3"
      },
      "execution_count": null,
      "outputs": [
        {
          "output_type": "stream",
          "name": "stdout",
          "text": [
            "Found the element\n"
          ]
        }
      ]
    }
  ]
}