{
  "nbformat": 4,
  "nbformat_minor": 0,
  "metadata": {
    "colab": {
      "provenance": [],
      "authorship_tag": "ABX9TyObs9F2GaoEWzbYSR8zR4/g",
      "include_colab_link": true
    },
    "kernelspec": {
      "name": "python3",
      "display_name": "Python 3"
    },
    "language_info": {
      "name": "python"
    }
  },
  "cells": [
    {
      "cell_type": "markdown",
      "metadata": {
        "id": "view-in-github",
        "colab_type": "text"
      },
      "source": [
        "<a href=\"https://colab.research.google.com/github/Neetha669/python-problem-solving/blob/main/day_06.ipynb\" target=\"_parent\"><img src=\"https://colab.research.google.com/assets/colab-badge.svg\" alt=\"Open In Colab\"/></a>"
      ]
    },
    {
      "cell_type": "code",
      "execution_count": null,
      "metadata": {
        "colab": {
          "base_uri": "https://localhost:8080/"
        },
        "id": "vAf9ztomDAN8",
        "outputId": "ff2d2143-f96f-495d-8784-91684be29cd7"
      },
      "outputs": [
        {
          "output_type": "stream",
          "name": "stdout",
          "text": [
            "5\n",
            "1 2 3 2 1\n",
            "17 20 19 23 22\n",
            "[1, 2, 1]\n",
            "2\n"
          ]
        }
      ],
      "source": [
        "n=int(input())\n",
        "vote=list(map(int,input().split()))\n",
        "age=list(map(int,input().split()))\n",
        "c=[0]*max(vote)\n",
        "for i in range(n):\n",
        "  if age[i]>=18:\n",
        "    c[vote[i]-1]+=1\n",
        "print(c)\n",
        "print(max(c))"
      ]
    },
    {
      "cell_type": "code",
      "source": [
        "from ast import Return\n",
        "n=int(input())\n",
        "vote=list(map(int,input().split()))\n",
        "age=list(map(int,input().split()))\n",
        "c=[0]*max(vote)\n",
        "for i in range(n):\n",
        "  if age[i]>=18:\n",
        "    c[vote[i]-1]+=1\n",
        "m=max(c)\n",
        "print(c.index(m)+1)\n"
      ],
      "metadata": {
        "colab": {
          "base_uri": "https://localhost:8080/"
        },
        "id": "MS5G2LakVJ8Z",
        "outputId": "134b83c4-eff7-42fe-8746-b592dd31a8da"
      },
      "execution_count": null,
      "outputs": [
        {
          "output_type": "stream",
          "name": "stdout",
          "text": [
            "5\n",
            "1 2 3 2 1\n",
            "17 20 19 23 22\n",
            "2\n"
          ]
        }
      ]
    },
    {
      "cell_type": "code",
      "source": [
        "l=[2,4,5,1,3]\n",
        "l.sort()\n",
        "print(l)"
      ],
      "metadata": {
        "colab": {
          "base_uri": "https://localhost:8080/"
        },
        "id": "zpnHOoThb1Xy",
        "outputId": "36a20e3a-4395-4323-d46e-7a7b25194ecb"
      },
      "execution_count": null,
      "outputs": [
        {
          "output_type": "stream",
          "name": "stdout",
          "text": [
            "[1, 2, 3, 4, 5]\n"
          ]
        }
      ]
    },
    {
      "cell_type": "code",
      "source": [
        "n=int(input())\n",
        "vote=list(map(int,input().split()))\n",
        "age=list(map(int,input().split()))\n",
        "c=[0]*max(vote)\n",
        "for i in range(n):\n",
        "  if age[i]>=18:\n",
        "    c[vote[i]-1]+=1\n",
        "temp=sorted(c,reverse=True)\n",
        "if temp[0]==temp[1]:\n",
        "  print(-1)\n",
        "else:\n",
        "  print(c.index(temp[0])+1)"
      ],
      "metadata": {
        "colab": {
          "base_uri": "https://localhost:8080/"
        },
        "id": "oi_p52uaW-ou",
        "outputId": "2d8c8751-0223-4b24-d0ce-62b2089540ce"
      },
      "execution_count": null,
      "outputs": [
        {
          "output_type": "stream",
          "name": "stdout",
          "text": [
            "5\n",
            "1 2 3 2 1\n",
            "22 19 20 18 24\n",
            "-1\n"
          ]
        }
      ]
    },
    {
      "cell_type": "code",
      "source": [
        "l=[2,3,4,5,7]\n",
        "for i in range(len(l)-1):\n",
        "  if l[i]>=l[i+1]:\n",
        "    print(False)\n",
        "    break\n",
        "else:\n",
        "    print(True)"
      ],
      "metadata": {
        "colab": {
          "base_uri": "https://localhost:8080/"
        },
        "id": "DXjGdOjFIKHy",
        "outputId": "a01921eb-6b35-41d8-8fca-c3d321b38cd2"
      },
      "execution_count": null,
      "outputs": [
        {
          "output_type": "stream",
          "name": "stdout",
          "text": [
            "True\n"
          ]
        }
      ]
    },
    {
      "cell_type": "code",
      "source": [
        "books=[2,3,4,1,2,6,7,3,5,1,6,3,2,4]\n",
        "k=4\n",
        "sum=0\n",
        "for i in range(k):\n",
        "  sum+=books[i]\n",
        "m=sum\n",
        "for i in range (1,len(books)-k+1):\n",
        "            sum=sum-books[i-1]+books[i+k-1]\n",
        "            m=max(m,sum)\n",
        "print(m)"
      ],
      "metadata": {
        "colab": {
          "base_uri": "https://localhost:8080/"
        },
        "id": "jcUK61b7JZSn",
        "outputId": "f4cf5c56-a1e2-4e52-81e2-f228fa0e34bf"
      },
      "execution_count": null,
      "outputs": [
        {
          "output_type": "stream",
          "name": "stdout",
          "text": [
            "21\n"
          ]
        }
      ]
    },
    {
      "cell_type": "code",
      "source": [
        "l=[2,3,4,5,2,1]\n",
        "for i in range(len(l)):\n",
        "  print(\" \")\n",
        "  for j in range(i+1,len(l)):\n",
        "    print(l[i:j],end=\" \")\n"
      ],
      "metadata": {
        "colab": {
          "base_uri": "https://localhost:8080/"
        },
        "id": "8JMpc6YtKRNQ",
        "outputId": "6b359bf5-82ee-4e73-a160-991f2667bec2"
      },
      "execution_count": null,
      "outputs": [
        {
          "output_type": "stream",
          "name": "stdout",
          "text": [
            " \n",
            "[2] [2, 3] [2, 3, 4] [2, 3, 4, 5] [2, 3, 4, 5, 2]  \n",
            "[3] [3, 4] [3, 4, 5] [3, 4, 5, 2]  \n",
            "[4] [4, 5] [4, 5, 2]  \n",
            "[5] [5, 2]  \n",
            "[2]  \n"
          ]
        }
      ]
    },
    {
      "cell_type": "code",
      "source": [
        "arr=[2,4,5,6,3,2,4,2,1,8,7,9]\n",
        "k=13\n",
        "l,r,sum,m=0,0,0,0\n",
        "while r<len(arr):\n",
        "  sum+=arr[r]\n",
        "  while sum>k:\n",
        "    sum=sum-arr[l]\n",
        "    l=l+1\n",
        "  m=max(m,r-l+1)\n",
        "  r+=1\n",
        "print(m)"
      ],
      "metadata": {
        "colab": {
          "base_uri": "https://localhost:8080/"
        },
        "id": "ZlQlf-YOQGBF",
        "outputId": "9256df35-c97a-4e6f-fa22-88b7df2c9005"
      },
      "execution_count": null,
      "outputs": [
        {
          "output_type": "stream",
          "name": "stdout",
          "text": [
            "5\n"
          ]
        }
      ]
    }
  ]
}