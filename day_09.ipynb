{
  "nbformat": 4,
  "nbformat_minor": 0,
  "metadata": {
    "colab": {
      "provenance": [],
      "authorship_tag": "ABX9TyMVZZDfyJCn9QMvrMIEPKe9",
      "include_colab_link": true
    },
    "kernelspec": {
      "name": "python3",
      "display_name": "Python 3"
    },
    "language_info": {
      "name": "python"
    }
  },
  "cells": [
    {
      "cell_type": "markdown",
      "metadata": {
        "id": "view-in-github",
        "colab_type": "text"
      },
      "source": [
        "<a href=\"https://colab.research.google.com/github/Neetha669/python-problem-solving/blob/main/day_09.ipynb\" target=\"_parent\"><img src=\"https://colab.research.google.com/assets/colab-badge.svg\" alt=\"Open In Colab\"/></a>"
      ]
    },
    {
      "cell_type": "code",
      "execution_count": null,
      "metadata": {
        "colab": {
          "base_uri": "https://localhost:8080/"
        },
        "id": "J_xnt5hJeGKC",
        "outputId": "5d413ffa-4b92-47c2-bf8e-b8f4bc8e69e5"
      },
      "outputs": [
        {
          "output_type": "stream",
          "name": "stdout",
          "text": [
            "enter the num:5\n",
            "5 4 3 2 1 "
          ]
        }
      ],
      "source": [
        "def fun(n):\n",
        "  if n==0:\n",
        "    return\n",
        "  print(n,end=\" \")\n",
        "  fun(n-1)\n",
        "a= int(input(\"enter the num:\"))\n",
        "fun(a)"
      ]
    },
    {
      "cell_type": "code",
      "source": [
        "def fun(n):\n",
        "  if n==0:\n",
        "    return\n",
        "  fun(n-1)\n",
        "  print(n,end=\" \")\n",
        "a= int(input(\"enter the num:\"))\n",
        "fun(a)"
      ],
      "metadata": {
        "colab": {
          "base_uri": "https://localhost:8080/"
        },
        "id": "iF0QYsM3nCZq",
        "outputId": "dbe452ac-c478-443d-ccbf-cc200a051164"
      },
      "execution_count": null,
      "outputs": [
        {
          "output_type": "stream",
          "name": "stdout",
          "text": [
            "enter the num:5\n",
            "1 2 3 4 5 "
          ]
        }
      ]
    },
    {
      "cell_type": "code",
      "source": [
        "def fun(n):\n",
        "  if n==0:\n",
        "    return 200\n",
        "  t= fun(n-1)\n",
        "  print(n,end=\" \")\n",
        "  return t\n",
        "a= int(input(\"enter the num:\"))\n",
        "print(fun(a))"
      ],
      "metadata": {
        "colab": {
          "base_uri": "https://localhost:8080/"
        },
        "id": "Rlm9EfL5o4Z3",
        "outputId": "79850d3c-97fc-469e-f461-59c081c5f587"
      },
      "execution_count": null,
      "outputs": [
        {
          "output_type": "stream",
          "name": "stdout",
          "text": [
            "enter the num:5\n",
            "1 2 3 4 5 200\n"
          ]
        }
      ]
    },
    {
      "cell_type": "code",
      "source": [
        "def fun(n):\n",
        "  if n==0:\n",
        "    return\n",
        "  if n%2==0:\n",
        "    print(n,end=\" \")\n",
        "  fun(n-1)\n",
        "  if n%2==0 and n>2:\n",
        "    print(n,end=\" \")\n",
        "\n",
        "a=int(input(\"Enter the num:\"))\n",
        "fun(a)"
      ],
      "metadata": {
        "colab": {
          "base_uri": "https://localhost:8080/"
        },
        "id": "3TXtJiI5tOOU",
        "outputId": "bda2c204-6d85-45c7-c2db-3c2463589f32"
      },
      "execution_count": null,
      "outputs": [
        {
          "output_type": "stream",
          "name": "stdout",
          "text": [
            "Enter the num:10\n",
            "10 8 6 4 2 4 6 8 10 "
          ]
        }
      ]
    },
    {
      "cell_type": "code",
      "source": [
        "def fun(n,m=0):\n",
        "  if n==m:\n",
        "   return\n",
        "  print(m+2,end=\" \")\n",
        "  fun(n,m+2)\n",
        "  if m+2!=10:\n",
        "    print(m+2,end=\" \")\n",
        "a=int(input(\"Enter the num:\"))\n",
        "fun(a)"
      ],
      "metadata": {
        "colab": {
          "base_uri": "https://localhost:8080/"
        },
        "id": "IJ1cu7vE2mqg",
        "outputId": "84ea2f90-d2b6-46f7-9dd7-a11597ca79e1"
      },
      "execution_count": null,
      "outputs": [
        {
          "output_type": "stream",
          "name": "stdout",
          "text": [
            "Enter the num:10\n",
            "2 4 6 8 10 8 6 4 2 "
          ]
        }
      ]
    },
    {
      "cell_type": "code",
      "source": [
        "def fun(n):\n",
        "    if (n == 1):\n",
        "        return 0;\n",
        "    elif (n % 2 == 0):\n",
        "        return 1 + fun(n / 2);\n",
        "    else:\n",
        "        return 1 + min(fun(n - 1),fun(n + 1))\n",
        "a=int(input(\"Enter the num:\"))\n",
        "print(fun(a))\n",
        "\n"
      ],
      "metadata": {
        "colab": {
          "base_uri": "https://localhost:8080/"
        },
        "id": "Q5gAT-EIF4gJ",
        "outputId": "f04f8a30-e045-4b34-c614-a21080a11a7a"
      },
      "execution_count": null,
      "outputs": [
        {
          "output_type": "stream",
          "name": "stdout",
          "text": [
            "Enter the num:15\n",
            "5\n"
          ]
        }
      ]
    },
    {
      "cell_type": "code",
      "source": [
        "def fun(n,i=1):\n",
        "  if i*i == n:\n",
        "    return True\n",
        "  if i*i> n:\n",
        "    return False\n",
        "  return fun(n,i+1)\n",
        "a=int(input(\"Enter a number: \"))\n",
        "if fun(a):\n",
        "  print(\"is a perfect square\")\n",
        "else:\n",
        "  print(\"is not a perfect square.\")"
      ],
      "metadata": {
        "colab": {
          "base_uri": "https://localhost:8080/"
        },
        "id": "jUNAcxsUIeZA",
        "outputId": "370c4787-4b0a-4ede-bcde-602bd5b83ae2"
      },
      "execution_count": null,
      "outputs": [
        {
          "output_type": "stream",
          "name": "stdout",
          "text": [
            "Enter a number: 25\n",
            "is a perfect square\n"
          ]
        }
      ]
    },
    {
      "cell_type": "code",
      "source": [
        "def fire(matrix,i,j):\n",
        "  if i<0 or i>=len(matrix) or j<0 or j>=len(matrix[0]) or matrix[i][j]!=1:\n",
        "    return\n",
        "  matrix[i][j]=2\n",
        "  fire(matrix,i-1,j)\n",
        "  fire(matrix,i+1,j)\n",
        "  fire(matrix,i,j-1)\n",
        "  fire(matrix,i,j+1)\n",
        "\n",
        "matrix=[[1,1,0,1],\n",
        "        [1,1,0,1],\n",
        "        [1,0,0,1],\n",
        "        [1,0,1,0]]\n",
        "fire(matrix,0,0)\n",
        "count=0\n",
        "for i in range(len(matrix)):\n",
        "  for j in range(len(matrix[0])):\n",
        "    if matrix[i][j]==1:\n",
        "      count+=1\n",
        "print(count)"
      ],
      "metadata": {
        "colab": {
          "base_uri": "https://localhost:8080/"
        },
        "id": "ZscJFtXlLhU_",
        "outputId": "97486cdb-ad50-43c4-bbb9-23a16e90cfdd"
      },
      "execution_count": null,
      "outputs": [
        {
          "output_type": "stream",
          "name": "stdout",
          "text": [
            "4\n"
          ]
        }
      ]
    },
    {
      "cell_type": "code",
      "source": [
        "def path(grid,i,j,p,n):\n",
        "  if i==n-1 and j==n-1:\n",
        "    print(p)\n",
        "    return\n",
        "  if i+1<n and grid[i][j]==1:\n",
        "    path(grid,i+1,j,p+\"D\",n)\n",
        "  if j+1<n and grid[i][j]==1:\n",
        "    path(grid,i,j+1,p+\"R\",n)\n",
        "matrix=[[1,0,0],\n",
        "        [1,1,0],\n",
        "        [1,1,1]]\n",
        "path(matrix,0,0,\"\",len(matrix))"
      ],
      "metadata": {
        "colab": {
          "base_uri": "https://localhost:8080/"
        },
        "id": "v7VZ-pH6qdF8",
        "outputId": "7efbcf73-635a-4faa-bb0e-b05f2d610203"
      },
      "execution_count": null,
      "outputs": [
        {
          "output_type": "stream",
          "name": "stdout",
          "text": [
            "DDRR\n",
            "DRDR\n"
          ]
        }
      ]
    }
  ]
}