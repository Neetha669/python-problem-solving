{
  "nbformat": 4,
  "nbformat_minor": 0,
  "metadata": {
    "colab": {
      "provenance": [],
      "authorship_tag": "ABX9TyMqAtshwOtqwK5/ADwnouNm",
      "include_colab_link": true
    },
    "kernelspec": {
      "name": "python3",
      "display_name": "Python 3"
    },
    "language_info": {
      "name": "python"
    }
  },
  "cells": [
    {
      "cell_type": "markdown",
      "metadata": {
        "id": "view-in-github",
        "colab_type": "text"
      },
      "source": [
        "<a href=\"https://colab.research.google.com/github/Neetha669/python-problem-solving/blob/main/day_05.ipynb\" target=\"_parent\"><img src=\"https://colab.research.google.com/assets/colab-badge.svg\" alt=\"Open In Colab\"/></a>"
      ]
    },
    {
      "cell_type": "code",
      "execution_count": null,
      "metadata": {
        "id": "6jsox1fw4hSS"
      },
      "outputs": [],
      "source": [
        "def addDigits(num: int) -> int:\n",
        "    while num >= 10:\n",
        "        digit_sum = 0\n",
        "        for digit in str(num):\n",
        "            digit_sum += int(digit)\n",
        "        num = digit_sum\n",
        "    return num"
      ]
    },
    {
      "cell_type": "code",
      "source": [
        "n=int(input())\n",
        "for _ in range(n):\n",
        "  k=int(input())\n",
        "  i,count=1,0\n",
        "  while 1:\n",
        "    if i%3!=0 and i%10!=3:\n",
        "      count+=1\n",
        "    if count==k:\n",
        "      print(i)\n",
        "      break\n",
        "    i+=1\n"
      ],
      "metadata": {
        "colab": {
          "base_uri": "https://localhost:8080/"
        },
        "id": "I6tA1r0oAanW",
        "outputId": "bb553c34-2725-4f1c-9f95-74f9c53f934b"
      },
      "execution_count": null,
      "outputs": [
        {
          "output_type": "stream",
          "name": "stdout",
          "text": [
            "1\n",
            "2\n",
            "2\n"
          ]
        }
      ]
    },
    {
      "cell_type": "code",
      "source": [
        "s={1,4,2,5,8}\n",
        "s.add(3)\n",
        "print(s)"
      ],
      "metadata": {
        "colab": {
          "base_uri": "https://localhost:8080/"
        },
        "id": "Xre9s4zaZwwo",
        "outputId": "9e8e6361-1d72-4ee1-b46e-71f5891ddfca"
      },
      "execution_count": null,
      "outputs": [
        {
          "output_type": "stream",
          "name": "stdout",
          "text": [
            "{1, 2, 3, 4, 5, 8}\n"
          ]
        }
      ]
    },
    {
      "cell_type": "code",
      "source": [
        "a={1,2,3}\n",
        "print(a)\n",
        "b={4,2,5}\n",
        "a.update(b)\n",
        "print(a)"
      ],
      "metadata": {
        "colab": {
          "base_uri": "https://localhost:8080/"
        },
        "id": "mmNMHZoqaA3c",
        "outputId": "59eeffd4-7881-4694-a443-0557306be1ac"
      },
      "execution_count": null,
      "outputs": [
        {
          "output_type": "stream",
          "name": "stdout",
          "text": [
            "{1, 2, 3}\n",
            "{1, 2, 3, 4, 5}\n"
          ]
        }
      ]
    },
    {
      "cell_type": "code",
      "source": [
        "s={1,2,3}\n",
        "s.clear()\n",
        "print(s)"
      ],
      "metadata": {
        "colab": {
          "base_uri": "https://localhost:8080/"
        },
        "id": "PPABHWWAaL5a",
        "outputId": "a5f77622-f618-4368-c5cc-559bc3467fc1"
      },
      "execution_count": null,
      "outputs": [
        {
          "output_type": "stream",
          "name": "stdout",
          "text": [
            "set()\n"
          ]
        }
      ]
    },
    {
      "cell_type": "code",
      "source": [
        "s={10,'hi',12,3,4}\n",
        "s.remove(12)\n",
        "print(s)\n",
        "s.remove(11)\n",
        "print(s)"
      ],
      "metadata": {
        "colab": {
          "base_uri": "https://localhost:8080/",
          "height": 211
        },
        "id": "QfB1mp8EaW9k",
        "outputId": "562a7a4c-d3a4-437e-bba3-c8ee14deeec6"
      },
      "execution_count": null,
      "outputs": [
        {
          "output_type": "stream",
          "name": "stdout",
          "text": [
            "{3, 4, 'hi', 10}\n"
          ]
        },
        {
          "output_type": "error",
          "ename": "KeyError",
          "evalue": "11",
          "traceback": [
            "\u001b[0;31m---------------------------------------------------------------------------\u001b[0m",
            "\u001b[0;31mKeyError\u001b[0m                                  Traceback (most recent call last)",
            "\u001b[0;32m/tmp/ipython-input-438910693.py\u001b[0m in \u001b[0;36m<cell line: 0>\u001b[0;34m()\u001b[0m\n\u001b[1;32m      2\u001b[0m \u001b[0ms\u001b[0m\u001b[0;34m.\u001b[0m\u001b[0mremove\u001b[0m\u001b[0;34m(\u001b[0m\u001b[0;36m12\u001b[0m\u001b[0;34m)\u001b[0m\u001b[0;34m\u001b[0m\u001b[0;34m\u001b[0m\u001b[0m\n\u001b[1;32m      3\u001b[0m \u001b[0mprint\u001b[0m\u001b[0;34m(\u001b[0m\u001b[0ms\u001b[0m\u001b[0;34m)\u001b[0m\u001b[0;34m\u001b[0m\u001b[0;34m\u001b[0m\u001b[0m\n\u001b[0;32m----> 4\u001b[0;31m \u001b[0ms\u001b[0m\u001b[0;34m.\u001b[0m\u001b[0mremove\u001b[0m\u001b[0;34m(\u001b[0m\u001b[0;36m11\u001b[0m\u001b[0;34m)\u001b[0m\u001b[0;34m\u001b[0m\u001b[0;34m\u001b[0m\u001b[0m\n\u001b[0m\u001b[1;32m      5\u001b[0m \u001b[0mprint\u001b[0m\u001b[0;34m(\u001b[0m\u001b[0ms\u001b[0m\u001b[0;34m)\u001b[0m\u001b[0;34m\u001b[0m\u001b[0;34m\u001b[0m\u001b[0m\n",
            "\u001b[0;31mKeyError\u001b[0m: 11"
          ]
        }
      ]
    },
    {
      "cell_type": "code",
      "source": [
        "s={10,'hi',12,3,4}\n",
        "print(s.pop())"
      ],
      "metadata": {
        "colab": {
          "base_uri": "https://localhost:8080/"
        },
        "id": "WaNKeAdsbwUa",
        "outputId": "564df7e2-6c57-46f8-d7e6-6b0d620ac056"
      },
      "execution_count": null,
      "outputs": [
        {
          "output_type": "stream",
          "name": "stdout",
          "text": [
            "3\n"
          ]
        }
      ]
    },
    {
      "cell_type": "code",
      "source": [
        "s={10,'hi',12,3,4}\n",
        "s.discard(10)\n",
        "print(s)\n",
        "s.discard(11)\n",
        "print(s)"
      ],
      "metadata": {
        "colab": {
          "base_uri": "https://localhost:8080/"
        },
        "id": "EEbO6wTqck9E",
        "outputId": "9e01516f-9ec1-4e86-f8e3-8a8568d489c1"
      },
      "execution_count": null,
      "outputs": [
        {
          "output_type": "stream",
          "name": "stdout",
          "text": [
            "{3, 4, 'hi', 12}\n",
            "{3, 4, 'hi', 12}\n"
          ]
        }
      ]
    },
    {
      "cell_type": "code",
      "source": [
        "a={1,2,3,4}\n",
        "b={2,3,5,6}\n",
        "print(a.difference(b))\n",
        "print(a-b)"
      ],
      "metadata": {
        "colab": {
          "base_uri": "https://localhost:8080/"
        },
        "id": "YUNDizIScyRl",
        "outputId": "ed6f5bfa-befa-41e3-f03e-eb19f5363182"
      },
      "execution_count": null,
      "outputs": [
        {
          "output_type": "stream",
          "name": "stdout",
          "text": [
            "{1, 4}\n",
            "{1, 4}\n"
          ]
        }
      ]
    },
    {
      "cell_type": "code",
      "source": [
        "a={1,2,3,4}\n",
        "b={2,3,5,6}\n",
        "a.difference_update(b)\n",
        "print(a)"
      ],
      "metadata": {
        "colab": {
          "base_uri": "https://localhost:8080/"
        },
        "id": "UqsbU_xidHq5",
        "outputId": "09975e4e-0de6-4b85-c1b9-5c6440b63277"
      },
      "execution_count": null,
      "outputs": [
        {
          "output_type": "stream",
          "name": "stdout",
          "text": [
            "{1, 4}\n"
          ]
        }
      ]
    },
    {
      "cell_type": "code",
      "source": [
        "a={1,2,3,4}\n",
        "b={2,3,5,6}\n",
        "print(a.symmetric_difference(b))\n",
        "print(a^b)"
      ],
      "metadata": {
        "colab": {
          "base_uri": "https://localhost:8080/"
        },
        "id": "96TupV7_d2gY",
        "outputId": "87ed9ef9-1e5b-4ed7-f302-c95ade51a3b7"
      },
      "execution_count": null,
      "outputs": [
        {
          "output_type": "stream",
          "name": "stdout",
          "text": [
            "{1, 4, 5, 6}\n",
            "{1, 4, 5, 6}\n"
          ]
        }
      ]
    },
    {
      "cell_type": "code",
      "source": [
        "a={1,2,3,4}\n",
        "b={2,3,5,6}\n",
        "a.symmetric_difference_update(b)\n",
        "print(a)"
      ],
      "metadata": {
        "colab": {
          "base_uri": "https://localhost:8080/"
        },
        "id": "edifYoJjeFaZ",
        "outputId": "5fc7364b-5f1e-4457-9ffe-9d469197f041"
      },
      "execution_count": null,
      "outputs": [
        {
          "output_type": "stream",
          "name": "stdout",
          "text": [
            "{1, 4, 5, 6}\n"
          ]
        }
      ]
    },
    {
      "cell_type": "code",
      "source": [
        "a={1,2,3,4}\n",
        "b={2,3,5,6}\n",
        "print(a.isdisjoint(b))"
      ],
      "metadata": {
        "colab": {
          "base_uri": "https://localhost:8080/"
        },
        "id": "HGOwtV_BeS2Z",
        "outputId": "3815e4a5-c83e-442d-d938-df5b41995b35"
      },
      "execution_count": null,
      "outputs": [
        {
          "output_type": "stream",
          "name": "stdout",
          "text": [
            "False\n"
          ]
        }
      ]
    },
    {
      "cell_type": "code",
      "source": [
        "A={1,2,3,4}\n",
        "B={2,3}\n",
        "print(A.issuperset(B))"
      ],
      "metadata": {
        "colab": {
          "base_uri": "https://localhost:8080/"
        },
        "id": "3ni9KweXetHS",
        "outputId": "879dd761-fe69-494a-e1f9-c88fbf5daaab"
      },
      "execution_count": null,
      "outputs": [
        {
          "output_type": "stream",
          "name": "stdout",
          "text": [
            "True\n"
          ]
        }
      ]
    },
    {
      "cell_type": "code",
      "source": [
        "A={1,2,3,4}\n",
        "B={2,3}\n",
        "print(B.issuperset(A))"
      ],
      "metadata": {
        "colab": {
          "base_uri": "https://localhost:8080/"
        },
        "id": "K7xPbpUye7yt",
        "outputId": "29247f29-a070-40db-ebe1-9769143744ec"
      },
      "execution_count": null,
      "outputs": [
        {
          "output_type": "stream",
          "name": "stdout",
          "text": [
            "False\n"
          ]
        }
      ]
    },
    {
      "cell_type": "code",
      "source": [
        "S={1,0,3,4,5}\n",
        "print((all(S)))"
      ],
      "metadata": {
        "colab": {
          "base_uri": "https://localhost:8080/"
        },
        "id": "kzwoNBDJfDRE",
        "outputId": "664399c8-56d0-4a54-d5ee-9becdf4779fe"
      },
      "execution_count": null,
      "outputs": [
        {
          "output_type": "stream",
          "name": "stdout",
          "text": [
            "False\n"
          ]
        }
      ]
    },
    {
      "cell_type": "code",
      "source": [
        "S={1,0,3,4,5}\n",
        "print(any(S))"
      ],
      "metadata": {
        "colab": {
          "base_uri": "https://localhost:8080/"
        },
        "id": "J5e3BlyofRZ2",
        "outputId": "6db7f3cf-cc48-4909-e798-35b86df84e3f"
      },
      "execution_count": null,
      "outputs": [
        {
          "output_type": "stream",
          "name": "stdout",
          "text": [
            "True\n"
          ]
        }
      ]
    },
    {
      "cell_type": "code",
      "source": [
        "s={3,5,2,4,1}\n",
        "print(sorted(s))"
      ],
      "metadata": {
        "colab": {
          "base_uri": "https://localhost:8080/"
        },
        "id": "McPsuNOifgi9",
        "outputId": "44dc8fb9-dc9c-4bf1-82b1-dc7f65864060"
      },
      "execution_count": null,
      "outputs": [
        {
          "output_type": "stream",
          "name": "stdout",
          "text": [
            "[1, 2, 3, 4, 5]\n"
          ]
        }
      ]
    },
    {
      "cell_type": "code",
      "source": [
        "d={}\n",
        "n=int(input(\"Enter the num of elements:\"))\n",
        "for _ in range(n):\n",
        "  key=int(input(\"Enter the key:\"))\n",
        "  value=int(input(\"Enter the value:\"))\n",
        "  d[key]=value\n",
        "print(d)"
      ],
      "metadata": {
        "colab": {
          "base_uri": "https://localhost:8080/"
        },
        "id": "ZC3n4FN3fnpk",
        "outputId": "0de9b3fc-74e3-4d5c-9b96-a6d94080b91a"
      },
      "execution_count": null,
      "outputs": [
        {
          "output_type": "stream",
          "name": "stdout",
          "text": [
            "Enter the num of elements:3\n",
            "Enter the key:1\n",
            "Enter the value:25\n",
            "Enter the key:2\n",
            "Enter the value:30\n",
            "Enter the key:3\n",
            "Enter the value:45\n",
            "{1: 25, 2: 30, 3: 45}\n"
          ]
        }
      ]
    },
    {
      "cell_type": "code",
      "source": [
        "d={1:'hi','a':123,100:32.4}\n",
        "print(d[1])\n",
        "print(d['a'])\n",
        "print(d[100])"
      ],
      "metadata": {
        "colab": {
          "base_uri": "https://localhost:8080/"
        },
        "id": "TnIg-mi8iUTB",
        "outputId": "c17d7325-6440-4154-aa47-1382ce26b840"
      },
      "execution_count": null,
      "outputs": [
        {
          "output_type": "stream",
          "name": "stdout",
          "text": [
            "hi\n",
            "123\n",
            "32.4\n"
          ]
        }
      ]
    },
    {
      "cell_type": "code",
      "source": [
        "d={1:'hi','a':123,100:32.4}\n",
        "print(d.get('a'))\n"
      ],
      "metadata": {
        "colab": {
          "base_uri": "https://localhost:8080/"
        },
        "id": "eKgn18bJipER",
        "outputId": "978fc643-70c2-4980-a686-e33be2ae010e"
      },
      "execution_count": null,
      "outputs": [
        {
          "output_type": "stream",
          "name": "stdout",
          "text": [
            "123\n"
          ]
        }
      ]
    },
    {
      "cell_type": "code",
      "source": [
        "d={1:'hi','a':123,100:32.4}\n",
        "for i in d:\n",
        "  print(i,\":\",d[i])"
      ],
      "metadata": {
        "colab": {
          "base_uri": "https://localhost:8080/"
        },
        "id": "yxti4Rzyi1GK",
        "outputId": "7ed7cf39-1957-4872-91e9-565b89b6a85d"
      },
      "execution_count": null,
      "outputs": [
        {
          "output_type": "stream",
          "name": "stdout",
          "text": [
            "1 : hi\n",
            "a : 123\n",
            "100 : 32.4\n"
          ]
        }
      ]
    },
    {
      "cell_type": "code",
      "source": [
        "d={1:'hi','a':123,100:32.4}\n",
        "print(d.get(100))\n"
      ],
      "metadata": {
        "colab": {
          "base_uri": "https://localhost:8080/"
        },
        "id": "gXyZpeQxkUOI",
        "outputId": "d136c686-5884-4ef2-edd0-3f911edbafcd"
      },
      "execution_count": null,
      "outputs": [
        {
          "output_type": "stream",
          "name": "stdout",
          "text": [
            "32.4\n"
          ]
        }
      ]
    },
    {
      "cell_type": "code",
      "source": [
        "d={1:'hi','a':123,100:32.4}\n",
        "d.update({1:'abc',2:451})\n",
        "print(d)"
      ],
      "metadata": {
        "colab": {
          "base_uri": "https://localhost:8080/"
        },
        "id": "lJJ2pZ_TkmRW",
        "outputId": "da9927c3-ea4a-4849-e6ca-fcfc3ebcc46b"
      },
      "execution_count": null,
      "outputs": [
        {
          "output_type": "stream",
          "name": "stdout",
          "text": [
            "{1: 'abc', 'a': 123, 100: 32.4, 2: 451}\n"
          ]
        }
      ]
    },
    {
      "cell_type": "code",
      "source": [
        "d={1:'hi','a':123,100:32.4}\n",
        "d1=d.copy()\n",
        "print(d1)"
      ],
      "metadata": {
        "colab": {
          "base_uri": "https://localhost:8080/"
        },
        "id": "MLPcR_Dgk4U_",
        "outputId": "3791d649-71b7-4ab6-9863-fe7038061248"
      },
      "execution_count": null,
      "outputs": [
        {
          "output_type": "stream",
          "name": "stdout",
          "text": [
            "{1: 'hi', 'a': 123, 100: 32.4}\n"
          ]
        }
      ]
    },
    {
      "cell_type": "code",
      "source": [
        "d={1:'hi','a':123,100:32.4}\n",
        "d.pop('a')\n",
        "print(d)\n"
      ],
      "metadata": {
        "colab": {
          "base_uri": "https://localhost:8080/"
        },
        "id": "GDSkjh_Ynp5I",
        "outputId": "56696fc4-5e10-4e97-cc65-11bdc12b7688"
      },
      "execution_count": null,
      "outputs": [
        {
          "output_type": "stream",
          "name": "stdout",
          "text": [
            "{1: 'hi', 100: 32.4}\n"
          ]
        }
      ]
    },
    {
      "cell_type": "code",
      "source": [
        "d={1:'hi','a':123,100:32.4}\n",
        "d.popitem()\n",
        "print(d)"
      ],
      "metadata": {
        "colab": {
          "base_uri": "https://localhost:8080/"
        },
        "id": "ECLfZITWn3TB",
        "outputId": "af15624d-d837-4dfb-aa01-ad0e1d59e9f2"
      },
      "execution_count": null,
      "outputs": [
        {
          "output_type": "stream",
          "name": "stdout",
          "text": [
            "{1: 'hi', 'a': 123}\n"
          ]
        }
      ]
    },
    {
      "cell_type": "code",
      "source": [
        "d={1:'hi','a':123,100:32.4}\n",
        "d.clear()\n",
        "print(d)"
      ],
      "metadata": {
        "colab": {
          "base_uri": "https://localhost:8080/"
        },
        "id": "Q_3A4vN_n8xw",
        "outputId": "993a22ed-7bbb-49d5-9cfa-8f01e18ad2d7"
      },
      "execution_count": null,
      "outputs": [
        {
          "output_type": "stream",
          "name": "stdout",
          "text": [
            "{}\n"
          ]
        }
      ]
    },
    {
      "cell_type": "code",
      "source": [
        "d={1:'hi','a':123,100:32.4}\n",
        "print(d.keys())"
      ],
      "metadata": {
        "colab": {
          "base_uri": "https://localhost:8080/"
        },
        "id": "9PZi6H6-oA05",
        "outputId": "aec1db73-55f6-4d29-badf-56abec8de5af"
      },
      "execution_count": null,
      "outputs": [
        {
          "output_type": "stream",
          "name": "stdout",
          "text": [
            "dict_keys([1, 'a', 100])\n"
          ]
        }
      ]
    },
    {
      "cell_type": "code",
      "source": [
        "d={1:'hi','a':123,100:32.4}\n",
        "d=dict.fromkeys(d,10)\n",
        "print(d)"
      ],
      "metadata": {
        "colab": {
          "base_uri": "https://localhost:8080/"
        },
        "id": "fOwvu2QRoEu4",
        "outputId": "2c01204a-543c-42f1-d9e8-1fa90155b844"
      },
      "execution_count": null,
      "outputs": [
        {
          "output_type": "stream",
          "name": "stdout",
          "text": [
            "{1: 10, 'a': 10, 100: 10}\n"
          ]
        }
      ]
    },
    {
      "cell_type": "code",
      "source": [
        "d={1:'hi','a':123,100:32.4}\n",
        "print(d.setdefault('a'))\n",
        "print(d.setdefault('b'))\n",
        "print(d)\n",
        "print(d.setdefault('c',200))\n",
        "print(d)"
      ],
      "metadata": {
        "colab": {
          "base_uri": "https://localhost:8080/"
        },
        "id": "Z3lQVb1soJ5y",
        "outputId": "bb602427-3951-4ed0-fb3a-837fe1a0643b"
      },
      "execution_count": null,
      "outputs": [
        {
          "output_type": "stream",
          "name": "stdout",
          "text": [
            "123\n",
            "None\n",
            "{1: 'hi', 'a': 123, 100: 32.4, 'b': None}\n",
            "200\n",
            "{1: 'hi', 'a': 123, 100: 32.4, 'b': None, 'c': 200}\n"
          ]
        }
      ]
    },
    {
      "cell_type": "code",
      "source": [
        "import operator\n",
        "d={}\n",
        "n=int(input(\"enter the num of the elements:\"))\n",
        "for i in range(n):\n",
        "  k=input(\"enter the key:\")\n",
        "  v=input(\"enter the value\")\n",
        "  d[k]=v\n",
        "key=input()\n",
        "if key in d:\n",
        "  print('key is present in the dict')\n",
        "else:\n",
        "  print('key is not present in the dict')"
      ],
      "metadata": {
        "colab": {
          "base_uri": "https://localhost:8080/"
        },
        "id": "wwYyZFa84OJJ",
        "outputId": "8cdaa9fc-f597-494e-9791-8e424650fd4a"
      },
      "execution_count": null,
      "outputs": [
        {
          "output_type": "stream",
          "name": "stdout",
          "text": [
            "enter the num of the elements:2\n",
            "enter the key:3\n",
            "enter the value4\n",
            "enter the key:5\n",
            "enter the value6\n",
            "4\n",
            "key is not present in the dict\n"
          ]
        }
      ]
    },
    {
      "cell_type": "code",
      "source": [
        "d={}\n",
        "n=int(input(\"enter the num:\"))\n",
        "for i in range(1,n+1):\n",
        "  d[i]=i*i\n",
        "print(d)"
      ],
      "metadata": {
        "colab": {
          "base_uri": "https://localhost:8080/"
        },
        "id": "V5_UBcyo5619",
        "outputId": "598ebf28-4515-472e-dcf1-47748bbe9741"
      },
      "execution_count": null,
      "outputs": [
        {
          "output_type": "stream",
          "name": "stdout",
          "text": [
            "enter the num:3\n",
            "{1: 1, 2: 4, 3: 9}\n"
          ]
        }
      ]
    },
    {
      "cell_type": "code",
      "source": [
        "l1=[1,3,4,5,7,8,9]\n",
        "l2=[2,6]\n",
        "i,j=0,0\n",
        "res=[]\n",
        "while i<len(l1) and j<len(l2):\n",
        "  if l1[i]<l2[j]:\n",
        "    res.append(l1[i])\n",
        "    i+=1\n",
        "  else:\n",
        "    res.append(l2[j])\n",
        "    j+=1\n",
        "while i<len(l1):\n",
        "    res.append(l1[i])\n",
        "    i+=1\n",
        "while j<len(l2):\n",
        "    res.append(l2[j])\n",
        "    j+=1\n",
        "print(res)"
      ],
      "metadata": {
        "colab": {
          "base_uri": "https://localhost:8080/"
        },
        "id": "SJt9M9UY9FtU",
        "outputId": "52674d0b-f20a-4c13-cc06-21f39f20dee1"
      },
      "execution_count": null,
      "outputs": [
        {
          "output_type": "stream",
          "name": "stdout",
          "text": [
            "[1, 2, 3, 4, 5, 6, 7, 8, 9]\n"
          ]
        }
      ]
    },
    {
      "cell_type": "code",
      "metadata": {
        "colab": {
          "base_uri": "https://localhost:8080/"
        },
        "id": "f37bd30b",
        "outputId": "368a748c-17b5-462f-90f7-03424825989e"
      },
      "source": [
        "l=[1,2,2,3,3,4,4,4]\n",
        "res=[]\n",
        "for i in l:\n",
        "  if not res or i!=res[-1]:\n",
        "    res.append(i)\n",
        "print (res)"
      ],
      "execution_count": null,
      "outputs": [
        {
          "output_type": "stream",
          "name": "stdout",
          "text": [
            "[1, 2, 3, 4]\n"
          ]
        }
      ]
    },
    {
      "cell_type": "code",
      "source": [
        "l=[1,6,9,5]\n",
        "m=0\n",
        "for i in range(len(l)):\n",
        "  for j in range(i+1,len(l)):\n",
        "    s=l[i]+l[j]\n",
        "    m=max(m,s)\n",
        "print(m)"
      ],
      "metadata": {
        "colab": {
          "base_uri": "https://localhost:8080/"
        },
        "id": "-PeN8xMVS5th",
        "outputId": "8de83e3b-08bb-4b06-e34d-2bcf6ff93cb4"
      },
      "execution_count": null,
      "outputs": [
        {
          "output_type": "stream",
          "name": "stdout",
          "text": [
            "15\n"
          ]
        }
      ]
    },
    {
      "cell_type": "code",
      "source": [
        "l=[1,6,9,9,5,5]\n",
        "m1,m2=0,0\n",
        "for i in l:\n",
        "  if i>m1:\n",
        "    m2=m1\n",
        "    m1=i\n",
        "  elif i>m2:\n",
        "    m2=i\n",
        "print(m1+m2)"
      ],
      "metadata": {
        "colab": {
          "base_uri": "https://localhost:8080/"
        },
        "id": "lLHitogYdpCO",
        "outputId": "ea91969e-f6b3-4206-c32b-918bb1a6ced6"
      },
      "execution_count": null,
      "outputs": [
        {
          "output_type": "stream",
          "name": "stdout",
          "text": [
            "18\n"
          ]
        }
      ]
    }
  ]
}